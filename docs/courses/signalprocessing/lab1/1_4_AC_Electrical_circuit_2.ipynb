{
 "cells": [
  {
   "cell_type": "markdown",
   "id": "ec4cf006",
   "metadata": {},
   "source": [
    "# Matrix resolution of an AC circuit via Kirchhoff, including transient\n",
    "\n",
    "Let's imagine the AC electrical circuit below : (already solved using phasors)\n",
    "\n",
    "![](./12_4.png)\n",
    "\n",
    "with :\n",
    "\n",
    "- $ U_s = 5 \\sin \\left( \\omega t + \\frac{\\pi}{4}\\right) $ [$V$]\n",
    "- $ R_1 = 20$ [$\\Omega$]\n",
    "- $ R_2 = 30$ [$\\Omega$]\n",
    "- $ R_3 = 10$ [$\\Omega$]\n",
    "- $ C_1 = 2$ [$\\mu F$]\n",
    "- $ C_2 = 5$ [$\\mu F$]\n",
    "- $ L = 10$ [$mH$]\n",
    "- $ f = 50$ [$Hz$]\n",
    "\n",
    "You're asked to :\n",
    "- Find the transfer function linking the current $I_6(s)$ through the inductance L to the input voltage $U_s(s)$ and check the duration of the transient. This is done on the basis of Kirchhoff's equations (previously obtained in exercise exo_circuit_phaseurs_1) and a matrix inversion but this time via dynamic systems and no longer complex impedances. For example : using phasors, the current in a capacitor is written $I_c = i \\omega C U_c$; using dynamical system: $I_c = s C U_c$ (with $s$; the Laplacian operator).\n",
    "- Using the Bode diagram, check the steady state current obtained for the input voltage defined above.\n",
    "- Represent the signal of the source voltage and that of the current (in transient and established state) in the coil as a function of time, on 2 complete periods, with 1000 points, and the same formatting as the graph below.\n",
    "- Then observe the index response of this circuit (input step: $U_s$, output = 0)\n",
    "- Draw the bode diagram of the answer (input: $U_s$; output: $U_L$)\n",
    "\n"
   ]
  }
 ],
 "metadata": {
  "kernelspec": {
   "display_name": "Python 3",
   "language": "python",
   "name": "python3"
  },
  "language_info": {
   "codemirror_mode": {
    "name": "ipython",
    "version": 3
   },
   "file_extension": ".py",
   "mimetype": "text/x-python",
   "name": "python",
   "nbconvert_exporter": "python",
   "pygments_lexer": "ipython3",
   "version": "3.13.0"
  }
 },
 "nbformat": 4,
 "nbformat_minor": 5
}
