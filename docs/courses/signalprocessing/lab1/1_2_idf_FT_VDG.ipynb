{
 "cells": [
  {
   "cell_type": "markdown",
   "metadata": {},
   "source": [
    "# Transfer function parameters identification (based on experimental data).\n",
    "\n",
    "A dynamic system has been excited using a step on its input.\n",
    "\n",
    "The system's output $y(t)$ has been logged; the logging started when the step was applied, so when $t=0$. The\n",
    "recorded datas are available in the file \"data_system_ok.npz\".\n",
    "\n",
    "One would like to approximate this dynamic system with a model build on a second order transfer function\n",
    "having 2 real poles and a dead-time : $$H_m(s) = \\frac{Ke^{-sT_m}}{(sT_1 + 1)(sT_2 + 1)}$$\n",
    "\n",
    "with:\n",
    "- $K$, the system's static gain\n",
    "- $T_m$, the dead-time\n",
    "- $T_1$ and $T_2$, the 2 time constants\n",
    "\n",
    "You're asked to :\n",
    "- Find the transfer function's parameters, ensuring its step answer would fit as good as possible to the\n",
    "experimental data. (Remember the tutorial about optimization)\n",
    "- Plot on one unique chart the experimental datas and the model's answer, using for this one 500 points\n",
    "equally distributed on the time duration of the experimental data.\n",
    "- Compute and plot the model's poles in the complex domain."
   ]
  }
 ],
 "metadata": {
  "kernelspec": {
   "display_name": "Python 3",
   "language": "python",
   "name": "python3"
  },
  "language_info": {
   "codemirror_mode": {
    "name": "ipython",
    "version": 3
   },
   "file_extension": ".py",
   "mimetype": "text/x-python",
   "name": "python",
   "nbconvert_exporter": "python",
   "pygments_lexer": "ipython3",
   "version": "3.13.0"
  }
 },
 "nbformat": 4,
 "nbformat_minor": 2
}
