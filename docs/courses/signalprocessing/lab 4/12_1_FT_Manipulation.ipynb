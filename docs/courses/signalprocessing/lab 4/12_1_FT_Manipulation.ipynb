{
 "cells": [
  {
   "cell_type": "markdown",
   "metadata": {},
   "source": [
    "# Transfer Functions creation & manipulation.\n",
    "\n",
    "Let's imagine a DC motor having the next block-diagram model :\n",
    "\n",
    "![](./12_1_image1.png)\n",
    "\n",
    "![](./12_1_image2.png)\n",
    "\n",
    "Here are the parameters : \n",
    "\n",
    "- $R_a = 1,6 [Ohms]$\n",
    "- $L_a = 32 [mH]$\n",
    "- $K_{\\phi} = 1,7 [Nm/A]$ or $[V/rad/s]$\n",
    "- $J = 0,07 [kgm²]$\n",
    "- $R_f = 0,16 [Nm/rad/s]$\n",
    "\n",
    "You're asked to :\n",
    "\n",
    "- Compute, using Matlab, the transfer function between the motor's speed $\\omega$ and the voltage $U_a$\n",
    "- Plot the speed evolution for 2.5 seconds, if the voltage $U_a$ is a ramp (with a slope of $40V/s$) during 1 second and then stays constant.\n",
    "- Plot the poles of the transfer function in the complex plane"
   ]
  }
 ],
 "metadata": {
  "kernelspec": {
   "display_name": "Python 3",
   "language": "python",
   "name": "python3"
  },
  "language_info": {
   "codemirror_mode": {
    "name": "ipython",
    "version": 3
   },
   "file_extension": ".py",
   "mimetype": "text/x-python",
   "name": "python",
   "nbconvert_exporter": "python",
   "pygments_lexer": "ipython3",
   "version": "3.13.0"
  }
 },
 "nbformat": 4,
 "nbformat_minor": 4
}
