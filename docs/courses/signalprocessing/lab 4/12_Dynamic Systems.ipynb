{
 "cells": [
  {
   "cell_type": "markdown",
   "metadata": {},
   "source": [
    "# Dynamic Systems\n",
    "\n",
    "All physical systems that store and transform energy are all dynamic systems that cannot react instantaneously\n",
    "to an external solicitation. This because if an energy transformation were to be instantaneous, it would require\n",
    "an infinite power ($P=dW/dt$), which is impossible to deliver.\n",
    "\n",
    "These systems are characterized by their capacity to act or not in a stable way, in a fast way, in an oscillating\n",
    "way, ...\n",
    "\n",
    "When the underlying physics of dynamic systems is sufficiently known, we have mathematical models capable\n",
    "of describing their temporal behavior: differential equations. Matlab allows the integration of linear differential\n",
    "equations with constant coefficients (LTI: Linear Time Invariant), expressed in different forms (and thus their\n",
    "numerical solutions), but also of non-linear differential equations (for which the most appropriate simulation tool\n",
    "is Simulink but it will not be discussed here).\n",
    "\n",
    "As an illustration, let's take the following example: if a force applied to a mass is at the origin of an acceleration,\n",
    "it is by integrating this force (divided by the mass) that we will obtain the velocity as a function of time and, by\n",
    "integrating the velocity, we will obtain the distance traveled. So we express the derivatives, Matlab integrates\n",
    "them. That's easy!\n",
    "\n",
    "We will continue this tutorial with this well known example: the system mass ($M$), spring ($K$), damper ($R_f$), of\n",
    "position $y$, subjected to an external force $u$.\n",
    "\n",
    "![](./12_image1.png)\n",
    "\n",
    "with $M = 0.5 kg$; $R_f=0.2kg/s$ and $K=1kg/s^2$\n",
    "\n",
    "The first step in the analysis of a physical system is to write down the laws of physics that govern its operation.\n",
    "\n",
    "Here, the dynamic equilibrium equation of the forces ($\\sum_i F_i = M \\cdot a$) on the mass $M$ is writen : $M \\frac{d^2y}{dt} + R_f \\frac{dy}{dt} + Ky = u$ or in a normalized way : $\\frac{d^2y}{dt^2} + \\frac{R_f}{M}\\frac{dy}{dt} + \\frac{K}{M}y = \\frac{1}{M}u$\n",
    "\n",
    "Recall that this differential equation can, **only because it is an LTI equation**, be transformed into a polynomial expression as a function of the variable \"$s$\" by passing in the Laplace domain.\n",
    "\n",
    "This passage in the Laplace domain is done with the Laplace transform, and allows us :\n",
    "\n",
    "- to make our life much easier : we will manipulate algebraic equations rather than differential equations\n",
    "- to quickly judge the dynamics and stability of the system by identifying its poles (the roots of the\n",
    "denominator)\n",
    "- to obtain directly the harmonic response of the system, i.e. in sinusoidal regime after the transient phase,\n",
    "by replacing \"$s$\" by \"$j\\omega$\".\n",
    "\n",
    "Our differential equation becomes, by the Laplace transform : $s^2Y(s) + \\frac{R_f}{M}sY(s) + \\frac{K}{M}Y(s) = \\frac{1}{M}U(s)$\n",
    "\n",
    "The transfer function is the ratio of the output y to the input u : $$H(s) = \\frac{Y(s)}{U(s)} = \\frac{\\frac{1}{M}}{s^2 + \\frac{R_f}{M}s + \\frac{K}{M}}$$\n",
    "\n",
    "This transfer function $H(s)$ will serve as an illustrative example throughout this tutorial. As soon as we talk about the $H(s)$ system, it will be good to remember that the physics behind this transfer function is this mass-spring-damper system.\n",
    "\n",
    "*NB: If the equation relating to this system were a non-linear differential equation, it would be necessary to work with the tools that are briefly presented at the end of this tutorial, or else it would be necessary to accept to work with small variations of the quantities around an operating point of this system to be able to apply the Laplace transform. This amounts to linearizing this system and allows to use all the theory related to transfer functions. This linearization approach is the one most frequently encountered in industry. Let's remember that the most frequent objective in industry is to control a system with a controller. And it turns out that the LTI tools allowing the implementation of this control are much more understandable and simple to implement than the non linear techniques, which explains why these solutions are preferred.*"
   ]
  }
 ],
 "metadata": {
  "language_info": {
   "name": "python"
  }
 },
 "nbformat": 4,
 "nbformat_minor": 2
}
