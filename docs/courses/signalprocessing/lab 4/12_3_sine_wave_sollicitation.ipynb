{
 "cells": [
  {
   "cell_type": "markdown",
   "metadata": {},
   "source": [
    "# System response to a sine wave sollicitation both in transient & steady state\n",
    "\n",
    "Let's suppose the next system $$H(s) = \\frac{135}{s^2 + 5s +13}$$\n",
    "\n",
    "One would like to know its time-related response to a input built as the sum of the 3 next sine waves: $$u_1(t)=3 \\sin\\left(\\frac{4}{3} \\pi t\\right)$$ $$u_2(t) = 5 \\sin\\left(4 \\pi t + \\frac{\\pi}{3}\\right)$$ $$u_3(t) = 0.5 \\sin\\left(8 \\pi t - \\frac{\\pi}{2}\\right)$$\n",
    "\n",
    "You're asked to :\n",
    "- Plot the system's Bode diagram and highlight the relevant frequencies using asterisks.\n",
    "- Use this Bode's diagram to plot the system's steady state response using a sample time of 50 ms. Remember the system is LTI and thus respects the superposition principle, so the global answer is the sum of the answers to each sine wave.\n",
    "- Compute the total transient duration based on the location of the system poles.\n",
    "- Simulate the time-related response (as well transient as steady state) using the relevant Python function (`forced_response`). Ensure the total simulation duration allows to have the whole transient as well as at least one complete period of the steady-state answer.\n",
    "- In the 2 previous results, isolate one period of the fondamental wave in steady state, and superimpose the 2 curves. (FYI, method one is `frequency_response` and method 2 is `forced_response` commands)."
   ]
  }
 ],
 "metadata": {
  "kernelspec": {
   "display_name": "Python 3",
   "language": "python",
   "name": "python3"
  },
  "language_info": {
   "codemirror_mode": {
    "name": "ipython",
    "version": 3
   },
   "file_extension": ".py",
   "mimetype": "text/x-python",
   "name": "python",
   "nbconvert_exporter": "python",
   "pygments_lexer": "ipython3",
   "version": "3.13.0"
  }
 },
 "nbformat": 4,
 "nbformat_minor": 2
}
