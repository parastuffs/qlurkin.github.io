{
 "cells": [
  {
   "cell_type": "markdown",
   "id": "587814d5",
   "metadata": {},
   "source": [
    "# Nyquist diagram plotting\n",
    "\n",
    "Let's suppose the next system : $$ H(s) = \\frac{2}{s^2 + 5s + 13} $$\n",
    "\n",
    "You're asked to :\n",
    "1. Compute the system frequency response (gain and phase in steady-state as answer to a sine wave),\n",
    "supposing the input signal's frequency changes from 0.001 to 1000000 rad/s, with 100 logarithmically\n",
    "spaced data.\n",
    "1. Plot the Nyquist diagram of this system.\n",
    "1. Superimpose the computed values (at question 1) on the Nyquist plot. "
   ]
  }
 ],
 "metadata": {
  "kernelspec": {
   "display_name": "Python 3",
   "language": "python",
   "name": "python3"
  },
  "language_info": {
   "codemirror_mode": {
    "name": "ipython",
    "version": 3
   },
   "file_extension": ".py",
   "mimetype": "text/x-python",
   "name": "python",
   "nbconvert_exporter": "python",
   "pygments_lexer": "ipython3",
   "version": "3.13.0"
  }
 },
 "nbformat": 4,
 "nbformat_minor": 5
}
